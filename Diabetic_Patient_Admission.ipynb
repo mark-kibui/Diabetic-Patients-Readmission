{
 "cells": [
  {
   "cell_type": "markdown",
   "id": "1612dc88",
   "metadata": {},
   "source": [
    "# DIABETES PATIENT RE-ADMISSION PREDICTION"
   ]
  },
  {
   "cell_type": "markdown",
   "id": "1f8ae0cd",
   "metadata": {},
   "source": [
    "### Introduction\n",
    "Hospital re-admission can indicate issues in patient care and may reveal areas where medical treatment could be improved. Predicting whether a patient will be readmitted allows healthcare providers to adapt treatments proactively, potentially reducing readmission rates and improving patients' outcome. This project focuses on identifying factors associated with readmissions in diabetic patients and aims to build a model to predict readmission risks.\n",
    "\n",
    "### Problem Statement\n",
    "In this dataset, I aim to predict one of three possible patient outcomes:\n",
    "\n",
    "**1. No Readmission:** The patient was not readmitted after discharge.\n",
    "\n",
    "**2. Readmission in Less than 30 Days:** Early readmission suggests potential issues with the initial treatment, which could be adjusted to reduce recurrence.\n",
    "\n",
    "**3. Readmission in More than 30 Days:** While less severe than early readmission, this still suggests potential follow-up care adjustments based on the patient's condition.\n",
    "\n",
    "The objective of the project is to develop models that predict these readmission categories, enabling more proactive and effective patient care strategies."
   ]
  },
  {
   "cell_type": "markdown",
   "id": "92bdb6a7",
   "metadata": {},
   "source": [
    "## Data Description\n",
    "The dataset spans 10 years of clinical data (1999-2008) from 130 hospitals and healthcare networks across the United States. It includes over 50 features that represent various aspects of patient health, demographics, and hospital treatment details. The dataset focuses exclusively on inpatient diabetic encounters with the following criteria:\n",
    "\n",
    "- Hospital admission (inpatient encounter).\n",
    "- Diagnosis of diabetes during the encounter.\n",
    "- Length of stay ranging from 1 to 14 days.\n",
    "- Laboratory tests and medication administration during the encounter.\n",
    "\n",
    "**Key Attributes in the Dataset**\n",
    "\n",
    "The data contains a range of attributes, including:\n",
    "   - Patient Demographics: Patient ID, race, gender, age.\n",
    "    \n",
    "   - Admission Details: Admission type, duration of stay, medical specialty of the admitting physician.\n",
    "    \n",
    "   - Clinical Tests and Results: Number of lab tests, HbA1c test results, primary and secondary diagnoses.\n",
    "    \n",
    "   - Medication Data: Number of medications administered, diabetic medications prescribed.\n",
    "    \n",
    "   - Hospital Visit History: Number of outpatient, inpatient, and emergency visits in the year before the current hospitalization."
   ]
  },
  {
   "cell_type": "code",
   "execution_count": null,
   "id": "158dc146",
   "metadata": {},
   "outputs": [],
   "source": []
  }
 ],
 "metadata": {
  "kernelspec": {
   "display_name": "Python 3 (ipykernel)",
   "language": "python",
   "name": "python3"
  },
  "language_info": {
   "codemirror_mode": {
    "name": "ipython",
    "version": 3
   },
   "file_extension": ".py",
   "mimetype": "text/x-python",
   "name": "python",
   "nbconvert_exporter": "python",
   "pygments_lexer": "ipython3",
   "version": "3.11.4"
  }
 },
 "nbformat": 4,
 "nbformat_minor": 5
}
